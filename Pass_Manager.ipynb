{
 "cells": [
  {
   "cell_type": "code",
   "execution_count": 157,
   "metadata": {},
   "outputs": [],
   "source": [
    "# home page\n",
    "\n",
    "# it will consist of three buttons:\n",
    "    # login\n",
    "    # signup\n",
    "    # exit\n",
    "\n",
    "\n",
    "# modules   \n",
    "import tkinter as tk\n",
    "# main window\n",
    "\n",
    "root=tk.Tk()\n",
    "\n",
    "\n"
   ]
  },
  {
   "cell_type": "code",
   "execution_count": 158,
   "metadata": {},
   "outputs": [],
   "source": [
    "# to remove all previous frames and add newer frame\n",
    "\n",
    "def forget_all(frame):\n",
    "    # update here with all frames\n",
    "    frames=[home_frame,login_frame,signup_frame]\n",
    "    for i in frames:\n",
    "        if i !=frame:\n",
    "            i.pack_forget()\n",
    "    frame.pack()"
   ]
  },
  {
   "cell_type": "code",
   "execution_count": 159,
   "metadata": {},
   "outputs": [],
   "source": [
    "# login page\n",
    "# it will consist of all widgets of login frame\n",
    "\n",
    "login_frame=tk.Frame(root)\n",
    "\n",
    "test_label_for_login=tk.Label(login_frame,text=\"HI\")\n",
    "\n",
    "test_label_for_login.pack()\n",
    "\n",
    "\n"
   ]
  },
  {
   "cell_type": "code",
   "execution_count": 160,
   "metadata": {},
   "outputs": [],
   "source": [
    "# Signup page\n",
    "# it will consist of all widgets of signup frame\n",
    "\n",
    "signup_frame=tk.Frame(root)\n",
    "\n",
    "test_label_for_signup=tk.Label(signup_frame,text=\"HI\")\n",
    "\n",
    "test_label_for_signup.pack()"
   ]
  },
  {
   "cell_type": "code",
   "execution_count": 161,
   "metadata": {},
   "outputs": [],
   "source": [
    "# home frame\n",
    "\n",
    "home_frame=tk.Frame(root)\n",
    "\n",
    "login_button=tk.Button(home_frame,text=\"Login\",command=lambda: forget_all(login_frame))\n",
    "\n",
    "signup_button=tk.Button(home_frame,text=\"Signup\",command=lambda:forget_all(signup_frame))\n",
    "\n",
    "\n",
    "\n",
    "exit_button=tk.Button(home_frame,text=\"Exit\",command=lambda:root.destroy())\n",
    "\n",
    "\n",
    "login_button.pack()\n",
    "\n",
    "signup_button.pack()\n",
    "\n",
    "exit_button.pack()\n",
    "\n",
    "home_frame.pack()\n",
    "\n"
   ]
  },
  {
   "cell_type": "code",
   "execution_count": null,
   "metadata": {},
   "outputs": [],
   "source": [
    "# calling the window\n",
    "root.mainloop()"
   ]
  },
  {
   "cell_type": "code",
   "execution_count": null,
   "metadata": {},
   "outputs": [],
   "source": []
  }
 ],
 "metadata": {
  "kernelspec": {
   "display_name": "Python 3",
   "language": "python",
   "name": "python3"
  },
  "language_info": {
   "codemirror_mode": {
    "name": "ipython",
    "version": 3
   },
   "file_extension": ".py",
   "mimetype": "text/x-python",
   "name": "python",
   "nbconvert_exporter": "python",
   "pygments_lexer": "ipython3",
   "version": "3.7.6"
  }
 },
 "nbformat": 4,
 "nbformat_minor": 4
}
