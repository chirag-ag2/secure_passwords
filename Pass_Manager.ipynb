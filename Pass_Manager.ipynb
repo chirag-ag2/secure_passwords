{
 "cells": [
  {
   "cell_type": "code",
   "execution_count": null,
   "metadata": {},
   "outputs": [],
   "source": []
  },
  {
   "cell_type": "code",
   "execution_count": null,
   "metadata": {},
   "outputs": [],
   "source": []
  },
  {
   "cell_type": "code",
   "execution_count": null,
   "metadata": {},
   "outputs": [],
   "source": []
  },
  {
   "cell_type": "code",
   "execution_count": null,
   "metadata": {},
   "outputs": [],
   "source": []
  },
  {
   "cell_type": "code",
   "execution_count": 326,
   "metadata": {},
   "outputs": [],
   "source": [
    "# database functions\n",
    "\n",
    "# to load database\n",
    "def load_db(f):\n",
    "    filename=\"databases\\\\\"+f\n",
    "    with open(filename, 'rb') as file:\n",
    "        db = pickle.load(file)\n",
    "        file.close()\n",
    "    return db\n",
    "\n",
    "\n",
    "# to update database\n",
    "def update_db(f,obj):\n",
    "    filename=\"databases\\\\\"+f\n",
    "    with open(filename, 'wb') as fp:\n",
    "        pickle.dump(obj, fp)\n",
    "        fp.close()\n",
    "    return True\n",
    "\n",
    "# to create new database and reset old one\n",
    "def reset_db(f):\n",
    "    filename=\"databases\\\\\"+f\n",
    "    with open(filename,'wb') as fp:\n",
    "        d={\"admin\":\"admin\"}\n",
    "        pickle.dump(d,fp)\n",
    "        fp.close()"
   ]
  },
  {
   "cell_type": "code",
   "execution_count": null,
   "metadata": {},
   "outputs": [],
   "source": []
  },
  {
   "cell_type": "code",
   "execution_count": 327,
   "metadata": {},
   "outputs": [],
   "source": [
    "# home page\n",
    "\n",
    "# it will consist of three buttons:\n",
    "    # login\n",
    "    # signup\n",
    "    # exit\n",
    "\n",
    "\n",
    "# modules   \n",
    "import tkinter as tk\n",
    "import pickle\n",
    "from tkinter import messagebox\n",
    "# main window\n",
    "\n",
    "root=tk.Tk()\n",
    "\n",
    "\n"
   ]
  },
  {
   "cell_type": "code",
   "execution_count": 328,
   "metadata": {},
   "outputs": [],
   "source": [
    "# changes color on hovering over buttons\n",
    "def ent_enter(e):\n",
    "    login_button.config(bg='#ff0000', fg='#ffffe6')\n",
    "def ent_leave(e):\n",
    "    login_button.config(bg='#ff8566',fg='#ffcccc')\n",
    "def su_enter(e):\n",
    "    signup_button.config(bg='#ff0000', fg='#ffffe6')\n",
    "def su_leave(e):\n",
    "    signup_button.config(bg='#ff8566',fg='#ffcccc')\n",
    "def ex_enter(e):\n",
    "    exit_button.config(bg='#ff0000', fg='#ffffe6')\n",
    "def ex_leave(e):\n",
    "    exit_button.config(bg='#ff8566',fg='#ffcccc')"
   ]
  },
  {
   "cell_type": "code",
   "execution_count": 329,
   "metadata": {},
   "outputs": [],
   "source": [
    "# to remove all previous frames and add newer frame\n",
    "\n",
    "def forget_all(frame):\n",
    "    # update here with all frames\n",
    "    frames=[home_frame,login_frame,signup_frame]\n",
    "    for i in frames:\n",
    "        if i !=frame:\n",
    "            i.pack_forget()\n",
    "    frame.pack()"
   ]
  },
  {
   "cell_type": "code",
   "execution_count": 330,
   "metadata": {},
   "outputs": [],
   "source": [
    "# frame where we will show passwords\n",
    "\n",
    "show_passwords_frame=tk.Frame(root)\n",
    "show_passwords_frame.config(bg='#cc2900')\n",
    "\n",
    "test_label_for_show_passwords=tk.Label(show_passwords_frame,text=\"All passswords will be shown here\")\n",
    "test_label_for_show_passwords.config(bg='#ff944d',fg='#ffcccc',font=(\"Times\",25,'bold'),width=40,height=2)\n",
    "\n",
    "test_label_for_show_passwords.pack()"
   ]
  },
  {
   "cell_type": "code",
   "execution_count": 331,
   "metadata": {},
   "outputs": [],
   "source": [
    "# login page\n",
    "# it will consist of all widgets of login frame\n",
    "# method to set userrname and password and calling forget all\n",
    "username_str=''\n",
    "password_str=''\n",
    "def set_variables_login():\n",
    "    global username_str,password_str\n",
    "    username_str=entry_username.get()\n",
    "    password_str=entry_password.get()\n",
    "    if not details_correct():\n",
    "        messagebox.showinfo(\"Login\",\"Login Succesfull\")\n",
    "        forget_all(show_passwords_frame)\n",
    "    else:\n",
    "        messagebox.showerror(\"Invalid Credentials\",details_correct())\n",
    "        # reset existring values\n",
    "        entry_password.delete(0,\"end\")\n",
    "        entry_username.delete(0,\"end\")\n",
    "        entry_password.insert(0,\"\")\n",
    "        entry_username.insert(0,\"\")\n",
    "        entry_username.focus_set()\n",
    "        \n",
    "login_frame=tk.Frame(root)\n",
    "login_frame.config(bg='#cc2900')\n",
    "\n",
    "# labels and entry boxes for  login page\n",
    "username=tk.StringVar\n",
    "password=tk.StringVar\n",
    "label_username=tk.Label(login_frame,text=\"Username:\")\n",
    "entry_username=tk.Entry(login_frame,textvariable=username)\n",
    "label_password=tk.Label(login_frame,text=\"Password:\")\n",
    "entry_password=tk.Entry(login_frame,show=\"*\",textvariable=password)\n",
    "\n",
    "# login button\n",
    "login_button1=tk.Button(login_frame,text=\"Login\",command=set_variables_login)\n",
    "\n",
    "# packing everything\n",
    "label_username.pack()\n",
    "entry_username.pack()\n",
    "label_password.pack()\n",
    "entry_password.pack()\n",
    "login_button1.pack()\n",
    "\n",
    "entry_username.focus_set()\n",
    "\n",
    "# okay so logic goes here\n",
    "db_users=load_db(\"users.pkl\")\n",
    "\n",
    "def details_correct():\n",
    "    if username_str in db_users:\n",
    "        if db_users[username_str]==password_str:\n",
    "            return False\n",
    "        else:\n",
    "            return \"Invalid Password\"\n",
    "    else:\n",
    "        return \"User not Found\"\n",
    "\n",
    "\n"
   ]
  },
  {
   "cell_type": "code",
   "execution_count": 332,
   "metadata": {},
   "outputs": [],
   "source": [
    "# Signup page\n",
    "# it will consist of all widgets of signup frame\n",
    "\n",
    "username_new_str=''\n",
    "password_new_str=''\n",
    "# to set the variables and signing up\n",
    "def set_variables_signup():\n",
    "    global username_new_str,password_new_str\n",
    "    username_new_str=entry_new_username.get()\n",
    "    password_new_str=entry_new_password.get()\n",
    "    if not details_avail():\n",
    "        messagebox.showinfo(\"Signup\",\"Signup Succesfull\")\n",
    "        db[username_new_str]=password_new_str\n",
    "        update_db(\"users.pkl\",db)\n",
    "        forget_all(show_passwords_frame)\n",
    "    else:\n",
    "        messagebox.showerror(\"Invalid Details\",details_avail())\n",
    "        # reset existring values\n",
    "        entry_new_password.delete(0,\"end\")\n",
    "        entry_new_username.delete(0,\"end\")\n",
    "        entry_new_password.insert(0,\"\")\n",
    "        entry_new_username.insert(0,\"\")\n",
    "        entry_new_username.focus_set()\n",
    "\n",
    "\n",
    "signup_frame=tk.Frame(root)\n",
    "signup_frame.config(bg='#cc2900')\n",
    "username_new=tk.StringVar\n",
    "password_new=tk.StringVar\n",
    "label_new_username=tk.Label(signup_frame,text=\"Username:\")\n",
    "entry_new_username=tk.Entry(signup_frame,textvariable=username_new)\n",
    "label_new_password=tk.Label(signup_frame,text=\"Password:\")\n",
    "entry_new_password=tk.Entry(signup_frame,show=\"*\",textvariable=password_new)\n",
    "\n",
    "signup_button1=tk.Button(signup_frame,text=\"Signup\",command=set_variables_signup)\n",
    "\n",
    "#pqck all of them\n",
    "label_new_username.pack()\n",
    "entry_new_username.pack()\n",
    "label_new_password.pack()\n",
    "entry_new_password.pack()\n",
    "signup_button1.pack()\n",
    "\n",
    "\n",
    "\n",
    "#load satabase\n",
    "db=load_db(\"users.pkl\")\n",
    "\n",
    "#check availability\n",
    "def details_avail():\n",
    "    if username_new_str in db:\n",
    "        return \"User Exists\"\n",
    "    else:\n",
    "        return False\n",
    "    # will add password fuctionality to check later\n"
   ]
  },
  {
   "cell_type": "code",
   "execution_count": 333,
   "metadata": {},
   "outputs": [
    {
     "data": {
      "text/plain": [
       "'1423786525192ex_leave'"
      ]
     },
     "execution_count": 333,
     "metadata": {},
     "output_type": "execute_result"
    }
   ],
   "source": [
    "# home frame\n",
    "\n",
    "home_frame=tk.Frame(root)\n",
    "home_frame.config(bg='#cc2900')\n",
    "\n",
    "login_button=tk.Button(home_frame,text=\"Login\",command=lambda: forget_all(login_frame))\n",
    "login_button.config(bg='#ff8566',fg='#ffcccc',font=(\"Times\",25,'bold'),width=15,height=2,relief=tk.RAISED,bd=3)\n",
    "\n",
    "signup_button=tk.Button(home_frame,text=\"Signup\",command=lambda:forget_all(signup_frame))\n",
    "signup_button.config(bg='#ff8566',fg='#ffcccc',font=(\"Times\",25,'bold'),width=15,height=2,relief=tk.RAISED,bd=3)\n",
    "\n",
    "\n",
    "\n",
    "exit_button=tk.Button(home_frame,text=\"Exit\",command=lambda:root.destroy())\n",
    "exit_button.config(bg='#ff8566',fg='#ffcccc',font=(\"Times\",25,'bold'),width=15,height=2,relief=tk.RAISED,bd=3)\n",
    "\n",
    "\n",
    "login_button.pack(padx=20,pady=20)\n",
    "#login_button.grid(row=4,column=2,padx=10,pady=10)\n",
    "\n",
    "signup_button.pack(padx=20,pady=20)\n",
    "#signup_button.grid(row=4,column=4)\n",
    "\n",
    "\n",
    "exit_button.pack(padx=20,pady=30)\n",
    "#exit_button.grid(row=6,column=3)\n",
    "\n",
    "\n",
    "home_frame.pack()\n",
    "\n",
    "login_button.bind('<Enter>', ent_enter)\n",
    "login_button.bind('<Leave>', ent_leave)\n",
    "signup_button.bind('<Enter>', su_enter)\n",
    "signup_button.bind('<Leave>', su_leave)\n",
    "exit_button.bind('<Enter>', ex_enter)\n",
    "exit_button.bind('<Leave>', ex_leave)"
   ]
  },
  {
   "cell_type": "code",
   "execution_count": null,
   "metadata": {},
   "outputs": [],
   "source": [
    "root.wm_minsize(800, 700)\n",
    "root.resizable(0,0)\n",
    "root.config(bg='#cc2900')\n",
    "# calling the window\n",
    "root.mainloop()"
   ]
  },
  {
   "cell_type": "code",
   "execution_count": 177,
   "metadata": {},
   "outputs": [
    {
     "name": "stdout",
     "output_type": "stream",
     "text": [
      "<class 'tkinter.StringVar'>\n"
     ]
    }
   ],
   "source": [
    "print(str(password))"
   ]
  },
  {
   "cell_type": "code",
   "execution_count": null,
   "metadata": {},
   "outputs": [],
   "source": []
  },
  {
   "cell_type": "code",
   "execution_count": null,
   "metadata": {},
   "outputs": [],
   "source": []
  },
  {
   "cell_type": "code",
   "execution_count": null,
   "metadata": {},
   "outputs": [],
   "source": []
  },
  {
   "cell_type": "code",
   "execution_count": 117,
   "metadata": {},
   "outputs": [],
   "source": [
    "# data base designing\n",
    "\n",
    "# data base we will use is going to be in pkl format\n",
    "\n",
    "# first data base is user.pkl file \n",
    "\n",
    "# in this file username and password of users will be in dictionary format along with other details\n",
    "\n",
    "# our schemea would be\n",
    "\n"
   ]
  },
  {
   "cell_type": "markdown",
   "metadata": {},
   "source": [
    "### user.pkl\n",
    "\n",
    "    {\n",
    "        'username1':'password'\n",
    "    }"
   ]
  },
  {
   "cell_type": "code",
   "execution_count": 325,
   "metadata": {},
   "outputs": [],
   "source": [
    "reset_db(\"users.pkl\")"
   ]
  },
  {
   "cell_type": "code",
   "execution_count": null,
   "metadata": {},
   "outputs": [],
   "source": []
  }
 ],
 "metadata": {
  "kernelspec": {
   "display_name": "Python 3",
   "language": "python",
   "name": "python3"
  },
  "language_info": {
   "codemirror_mode": {
    "name": "ipython",
    "version": 3
   },
   "file_extension": ".py",
   "mimetype": "text/x-python",
   "name": "python",
   "nbconvert_exporter": "python",
   "pygments_lexer": "ipython3",
   "version": "3.7.6"
  }
 },
 "nbformat": 4,
 "nbformat_minor": 4
}
