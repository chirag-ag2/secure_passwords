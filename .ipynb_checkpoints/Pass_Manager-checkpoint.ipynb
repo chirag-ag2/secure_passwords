{
 "cells": [
  {
   "cell_type": "code",
   "execution_count": 23,
   "metadata": {},
   "outputs": [],
   "source": [
    "# home page\n",
    "\n",
    "# it will consist of three buttons:\n",
    "    # login\n",
    "    # signup\n",
    "    # exit\n",
    "\n",
    "\n",
    "# modules   \n",
    "import tkinter as tk\n",
    "# main window\n",
    "\n",
    "root=tk.Tk()\n",
    "\n",
    "\n"
   ]
  },
  {
   "cell_type": "code",
   "execution_count": 24,
   "metadata": {},
   "outputs": [],
   "source": [
    "# changes color on hovering over buttons\n",
    "def ent_enter(e):\n",
    "    login_button.config(bg='#ff0000', fg='#ffffe6')\n",
    "def ent_leave(e):\n",
    "    login_button.config(bg='#ff8566',fg='#ffcccc')\n",
    "def su_enter(e):\n",
    "    signup_button.config(bg='#ff0000', fg='#ffffe6')\n",
    "def su_leave(e):\n",
    "    signup_button.config(bg='#ff8566',fg='#ffcccc')\n",
    "def ex_enter(e):\n",
    "    exit_button.config(bg='#ff0000', fg='#ffffe6')\n",
    "def ex_leave(e):\n",
    "    exit_button.config(bg='#ff8566',fg='#ffcccc')"
   ]
  },
  {
   "cell_type": "code",
   "execution_count": 25,
   "metadata": {},
   "outputs": [],
   "source": [
    "# to remove all previous frames and add newer frame\n",
    "\n",
    "def forget_all(frame):\n",
    "    # update here with all frames\n",
    "    frames=[home_frame,login_frame,signup_frame]\n",
    "    for i in frames:\n",
    "        if i !=frame:\n",
    "            i.pack_forget()\n",
    "    frame.pack()"
   ]
  },
  {
   "cell_type": "code",
   "execution_count": 26,
   "metadata": {},
   "outputs": [],
   "source": [
    "# login page\n",
    "# it will consist of all widgets of login frame\n",
    "\n",
    "login_frame=tk.Frame(root)\n",
    "login_frame.config(bg='#cc2900')\n",
    "\n",
    "test_label_for_login=tk.Label(login_frame,text=\"HI\")\n",
    "test_label_for_login.config(bg='#ff944d',fg='#ffcccc',font=(\"Times\",25,'bold'),width=15,height=2)\n",
    "\n",
    "test_label_for_login.pack(pady=20)\n",
    "\n",
    "\n"
   ]
  },
  {
   "cell_type": "code",
   "execution_count": 27,
   "metadata": {},
   "outputs": [],
   "source": [
    "# Signup page\n",
    "# it will consist of all widgets of signup frame\n",
    "\n",
    "signup_frame=tk.Frame(root)\n",
    "signup_frame.config(bg='#cc2900')\n",
    "\n",
    "test_label_for_signup=tk.Label(signup_frame,text=\"HI\")\n",
    "test_label_for_signup.config(bg='#ff944d',fg='#ffcccc',font=(\"Times\",25,'bold'),width=15,height=2)\n",
    "\n",
    "test_label_for_signup.pack()"
   ]
  },
  {
   "cell_type": "code",
   "execution_count": 28,
   "metadata": {},
   "outputs": [
    {
     "data": {
      "text/plain": [
       "'1425883077256ex_leave'"
      ]
     },
     "execution_count": 28,
     "metadata": {},
     "output_type": "execute_result"
    }
   ],
   "source": [
    "# home frame\n",
    "\n",
    "home_frame=tk.Frame(root)\n",
    "home_frame.config(bg='#cc2900')\n",
    "\n",
    "login_button=tk.Button(home_frame,text=\"Login\",command=lambda: forget_all(login_frame))\n",
    "login_button.config(bg='#ff8566',fg='#ffcccc',font=(\"Times\",25,'bold'),width=15,height=2,relief=tk.RAISED,bd=3)\n",
    "\n",
    "signup_button=tk.Button(home_frame,text=\"Signup\",command=lambda:forget_all(signup_frame))\n",
    "signup_button.config(bg='#ff8566',fg='#ffcccc',font=(\"Times\",25,'bold'),width=15,height=2,relief=tk.RAISED,bd=3)\n",
    "\n",
    "\n",
    "\n",
    "exit_button=tk.Button(home_frame,text=\"Exit\",command=lambda:root.destroy())\n",
    "exit_button.config(bg='#ff8566',fg='#ffcccc',font=(\"Times\",25,'bold'),width=15,height=2,relief=tk.RAISED,bd=3)\n",
    "\n",
    "\n",
    "login_button.pack(padx=20,pady=20)\n",
    "#login_button.grid(row=4,column=2,padx=10,pady=10)\n",
    "\n",
    "signup_button.pack(padx=20,pady=20)\n",
    "#signup_button.grid(row=4,column=4)\n",
    "\n",
    "\n",
    "exit_button.pack(padx=20,pady=30)\n",
    "#exit_button.grid(row=6,column=3)\n",
    "\n",
    "\n",
    "home_frame.pack()\n",
    "\n",
    "login_button.bind('<Enter>', ent_enter)\n",
    "login_button.bind('<Leave>', ent_leave)\n",
    "signup_button.bind('<Enter>', su_enter)\n",
    "signup_button.bind('<Leave>', su_leave)\n",
    "exit_button.bind('<Enter>', ex_enter)\n",
    "exit_button.bind('<Leave>', ex_leave)"
   ]
  },
  {
   "cell_type": "code",
   "execution_count": 29,
   "metadata": {},
   "outputs": [],
   "source": [
    "root.wm_minsize(800, 700)\n",
    "root.resizable(0,0)\n",
    "root.config(bg='#cc2900')\n",
    "# calling the window\n",
    "root.mainloop()"
   ]
  },
  {
   "cell_type": "code",
   "execution_count": null,
   "metadata": {},
   "outputs": [],
   "source": []
  }
 ],
 "metadata": {
  "kernelspec": {
   "display_name": "Python 3",
   "language": "python",
   "name": "python3"
  },
  "language_info": {
   "codemirror_mode": {
    "name": "ipython",
    "version": 3
   },
   "file_extension": ".py",
   "mimetype": "text/x-python",
   "name": "python",
   "nbconvert_exporter": "python",
   "pygments_lexer": "ipython3",
   "version": "3.7.6"
  }
 },
 "nbformat": 4,
 "nbformat_minor": 4
}
